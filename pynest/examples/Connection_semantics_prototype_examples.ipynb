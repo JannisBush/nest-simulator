{
 "cells": [
  {
   "cell_type": "code",
   "execution_count": 1,
   "metadata": {
    "scrolled": false
   },
   "outputs": [
    {
     "name": "stdout",
     "output_type": "stream",
     "text": [
      "[[NodeCollection(metadata=None, model=iaf_psc_alpha, size=5, first=1, last=5), NodeCollection(metadata=None, model=iaf_psc_alpha, size=5, first=1, last=5), {'rule': 'one_to_one'}, {'synapse_model': 'static_synapse'}], [NodeCollection(metadata=None, model=iaf_psc_alpha, size=5, first=1, last=5), NodeCollection(metadata=None, model=iaf_psc_alpha, size=5, first=1, last=5), {'rule': 'one_to_one'}, {'synapse_model': 'static_synapse'}]]\n"
     ]
    }
   ],
   "source": [
    "import nest\n",
    "\n",
    "nest.ResetKernel()\n",
    "n = nest.Create('iaf_psc_alpha', 5)\n",
    "\n",
    "nest.projections.Connect([nest.projections.OneToOne(source=n, target=n),\n",
    "                          nest.projections.OneToOne(source=n, target=n)])\n",
    "nest.projections.BuildNetwork()\n"
   ]
  },
  {
   "cell_type": "markdown",
   "metadata": {},
   "source": [
    "## Projection object\n",
    "\n",
    "Introducing the Projection object, representing projection between two populations with a certain rule. The projection object is added to a buffer with `projections.Connect()`, and held until calling `projections.BuildNetwork()`.\n",
    "\n",
    "### `OneToOne`"
   ]
  },
  {
   "cell_type": "code",
   "execution_count": null,
   "metadata": {},
   "outputs": [],
   "source": [
    "nest.ResetKernel()\n",
    "n = nest.Create('iaf_psc_alpha', 5)\n",
    "\n",
    "projection = nest.projections.OneToOne(source=n, target=n)\n",
    "nest.projections.Connect(projection)\n",
    "nest.projections.BuildNetwork()\n",
    "\n",
    "conns = nest.GetConnections()\n",
    "print(conns)"
   ]
  },
  {
   "cell_type": "markdown",
   "metadata": {},
   "source": [
    "### `FixedIndegree`\n",
    "Different Projections can take different arguments, depending on the connection rule."
   ]
  },
  {
   "cell_type": "code",
   "execution_count": null,
   "metadata": {},
   "outputs": [],
   "source": [
    "nest.ResetKernel()\n",
    "n = nest.Create('iaf_psc_alpha', 5)\n",
    "\n",
    "projection = nest.projections.FixedIndegree(source=n, target=n, indegree=5)\n",
    "nest.projections.Connect(projection)\n",
    "nest.projections.BuildNetwork()\n",
    "\n",
    "conns = nest.GetConnections()\n",
    "print(conns)"
   ]
  },
  {
   "cell_type": "markdown",
   "metadata": {},
   "source": [
    "### `FixedOutdegree`"
   ]
  },
  {
   "cell_type": "code",
   "execution_count": null,
   "metadata": {
    "scrolled": false
   },
   "outputs": [],
   "source": [
    "nest.ResetKernel()\n",
    "n = nest.Create('iaf_psc_alpha', 5)\n",
    "\n",
    "projection = nest.projections.FixedOutdegree(source=n, target=n, outdegree=5)\n",
    "nest.projections.Connect(projection)\n",
    "nest.projections.BuildNetwork()\n",
    "\n",
    "conns = nest.GetConnections()\n",
    "print(conns)"
   ]
  },
  {
   "cell_type": "markdown",
   "metadata": {},
   "source": [
    "### `PairwiseBernoulli`\n",
    "Projections can store synapse specifications."
   ]
  },
  {
   "cell_type": "code",
   "execution_count": null,
   "metadata": {
    "scrolled": false
   },
   "outputs": [],
   "source": [
    "nest.ResetKernel()\n",
    "n = nest.Create('iaf_psc_alpha', 10)\n",
    "\n",
    "projection = nest.projections.PairwiseBernoulli(source=n, target=n, \n",
    "                                                p=0.2)\n",
    "nest.projections.Connect(projection)\n",
    "nest.projections.BuildNetwork()\n",
    "\n",
    "conns = nest.GetConnections()\n",
    "print(conns)"
   ]
  },
  {
   "cell_type": "markdown",
   "metadata": {},
   "source": [
    "### `FixedTotalNumber`\n",
    "Can also pass arguments that controls if autapses or multapses are possible."
   ]
  },
  {
   "cell_type": "code",
   "execution_count": null,
   "metadata": {},
   "outputs": [],
   "source": [
    "nest.ResetKernel()\n",
    "n = nest.Create('iaf_psc_alpha', 5)\n",
    "\n",
    "projection = nest.projections.FixedTotalNumber(source=n, target=n, N=10, \n",
    "                                               allow_autapses=True,\n",
    "                                               allow_multapses=True)\n",
    "nest.projections.Connect(projection)\n",
    "nest.projections.BuildNetwork()\n",
    "\n",
    "conns = nest.GetConnections()\n",
    "print(conns)"
   ]
  },
  {
   "cell_type": "markdown",
   "metadata": {},
   "source": [
    "## Multiple projections\n",
    "Multiple Projections can be added to the buffer before connecting by calling `projections.Connect()` multiple times."
   ]
  },
  {
   "cell_type": "code",
   "execution_count": null,
   "metadata": {},
   "outputs": [],
   "source": [
    "nest.ResetKernel()\n",
    "\n",
    "N = 10\n",
    "IN_A = 2\n",
    "IN_B = 5\n",
    "n = nest.Create('iaf_psc_alpha', N)\n",
    "nest.projections.Connect(nest.projections.FixedIndegree(source=n, target=n, indegree=IN_A))\n",
    "nest.projections.Connect(nest.projections.FixedIndegree(source=n, target=n, indegree=IN_B))\n",
    "nest.projections.BuildNetwork()\n",
    "\n",
    "conns = nest.GetConnections()\n",
    "print(conns)"
   ]
  },
  {
   "cell_type": "markdown",
   "metadata": {},
   "source": [
    "Or by passing a list of Projections."
   ]
  },
  {
   "cell_type": "code",
   "execution_count": null,
   "metadata": {},
   "outputs": [],
   "source": [
    "nest.ResetKernel()\n",
    "\n",
    "N = 10\n",
    "IN_A = 2\n",
    "IN_B = 5\n",
    "n = nest.Create('iaf_psc_alpha', N)\n",
    "projections = [nest.projections.FixedIndegree(source=n, target=n, indegree=IN_A),\n",
    "               nest.projections.FixedIndegree(source=n, target=n, indegree=IN_B)]\n",
    "nest.projections.Connect(projections)\n",
    "nest.projections.BuildNetwork()\n",
    "\n",
    "conns = nest.GetConnections()\n",
    "print(conns)"
   ]
  },
  {
   "cell_type": "markdown",
   "metadata": {},
   "source": [
    "## Using `ConnectImmediately()`\n",
    "Using `projections.ConnectImmediately()` will immediately construct the connections of a Projection."
   ]
  },
  {
   "cell_type": "code",
   "execution_count": null,
   "metadata": {},
   "outputs": [],
   "source": [
    "nest.ResetKernel()\n",
    "\n",
    "n = nest.Create('iaf_psc_alpha', 5)\n",
    "nest.projections.ConnectImmediately(nest.projections.OneToOne(source=n, target=n))\n",
    "\n",
    "conns = nest.GetConnections()\n",
    "print(conns)\n"
   ]
  },
  {
   "cell_type": "markdown",
   "metadata": {},
   "source": [
    "Or for all Projections in a list."
   ]
  },
  {
   "cell_type": "code",
   "execution_count": null,
   "metadata": {},
   "outputs": [],
   "source": [
    "nest.ResetKernel()\n",
    "\n",
    "N = 5\n",
    "IN_A = 2\n",
    "IN_B = 4\n",
    "n = nest.Create('iaf_psc_alpha', N)\n",
    "\n",
    "projections = [nest.projections.FixedIndegree(source=n, target=n, indegree=IN_A),\n",
    "               nest.projections.FixedIndegree(source=n, target=n, indegree=IN_B)]\n",
    "nest.projections.ConnectImmediately(projections)\n",
    "\n",
    "conns = nest.GetConnections()\n",
    "print(conns)"
   ]
  },
  {
   "cell_type": "markdown",
   "metadata": {},
   "source": [
    "## Synapse model object\n",
    "### `static_synapse`"
   ]
  },
  {
   "cell_type": "code",
   "execution_count": null,
   "metadata": {},
   "outputs": [],
   "source": [
    "nest.ResetKernel()\n",
    "n = nest.Create('iaf_psc_alpha', 5)\n",
    "\n",
    "synapse = nest.synapsemodels.static(weight=0.5, delay=0.7)\n",
    "\n",
    "projection = nest.projections.OneToOne(source=n, target=n, syn_spec=synapse)\n",
    "nest.projections.Connect(projection)\n",
    "nest.projections.BuildNetwork()\n",
    "\n",
    "conns = nest.GetConnections()\n",
    "print(conns)"
   ]
  },
  {
   "cell_type": "markdown",
   "metadata": {},
   "source": [
    "### `stdp_synapse`"
   ]
  },
  {
   "cell_type": "code",
   "execution_count": null,
   "metadata": {},
   "outputs": [],
   "source": [
    "nest.ResetKernel()\n",
    "n = nest.Create('iaf_psc_alpha', 5)\n",
    "\n",
    "synapse = nest.synapsemodels.stdp(weight=nest.random.uniform(0.5, 1.0), tau_plus=17.)\n",
    "\n",
    "projection = nest.projections.OneToOne(source=n, target=n, syn_spec=synapse)\n",
    "nest.projections.Connect(projection)\n",
    "nest.projections.BuildNetwork()\n",
    "\n",
    "conns = nest.GetConnections()\n",
    "print(conns)\n",
    "print('tau_plus =', conns.tau_plus)"
   ]
  },
  {
   "cell_type": "markdown",
   "metadata": {},
   "source": [
    "## Usage examples"
   ]
  },
  {
   "cell_type": "markdown",
   "metadata": {},
   "source": [
    "### Generate projections iteratively, with duplicated projections\n",
    "By cloning a Projection, one can iteratively generate similar projections, where only a few parameters are changing."
   ]
  },
  {
   "cell_type": "code",
   "execution_count": null,
   "metadata": {},
   "outputs": [],
   "source": [
    "nest.ResetKernel()\n",
    "n1 = nest.Create('iaf_psc_alpha', 3)\n",
    "n2 = nest.Create('iaf_psc_exp', 3)\n",
    "\n",
    "synapse = nest.synapsemodels.static(weight=0.5, delay=0.7)\n",
    "base_projection = nest.projections.FixedTotalNumber(source=n1, target=n2,\n",
    "                                                    N=5,\n",
    "                                                    syn_spec=synapse)\n",
    "for s, t in ((n1, n2), (n1, n1), (n2, n2), (n2, n1)):\n",
    "    p = base_projection.clone()  # Create a copy of the base Projection.\n",
    "    p.source = s  # Change some parameters\n",
    "    p.target = t  # of the copied Projection.\n",
    "    nest.projections.Connect(p)  # Add the copy to the buffer.\n",
    "nest.projections.BuildNetwork()\n",
    "\n",
    "conns = nest.GetConnections()\n",
    "print(conns)\n",
    "print('Number of connections:', len(conns))"
   ]
  },
  {
   "cell_type": "markdown",
   "metadata": {},
   "source": [
    "### Using `CollocatedSynapses` in projections"
   ]
  },
  {
   "cell_type": "code",
   "execution_count": null,
   "metadata": {},
   "outputs": [],
   "source": [
    "nest.ResetKernel()\n",
    "n = nest.Create('iaf_psc_alpha', 2)\n",
    "\n",
    "syn_spec = nest.CollocatedSynapses(nest.synapsemodels.static(weight=-2.),\n",
    "                                   nest.synapsemodels.stdp(weight=3.))\n",
    "\n",
    "projection = nest.projections.FixedIndegree(source=n, target=n, indegree=3, syn_spec=syn_spec)\n",
    "nest.projections.Connect(projection)\n",
    "nest.projections.BuildNetwork()\n",
    "\n",
    "conns = nest.GetConnections()\n",
    "print(conns)"
   ]
  },
  {
   "cell_type": "markdown",
   "metadata": {},
   "source": [
    "### Spatial connections"
   ]
  },
  {
   "cell_type": "code",
   "execution_count": null,
   "metadata": {},
   "outputs": [],
   "source": [
    "nest.ResetKernel()\n",
    "\n",
    "dim = [4, 5]\n",
    "extent = [10., 10.]\n",
    "layer = nest.Create('iaf_psc_alpha', positions=nest.spatial.grid(dim, extent=extent))\n",
    "\n",
    "mask = {'rectangular': {\n",
    "        'lower_left': [-5., -5.],\n",
    "        'upper_right': [0., 0.]}}\n",
    "projection = nest.projections.FixedIndegree(source=layer, target=layer, indegree=1, mask=mask)\n",
    "\n",
    "nest.projections.Connect(projection)\n",
    "nest.projections.BuildNetwork()\n",
    "\n",
    "conns = nest.GetConnections()\n",
    "print(conns)"
   ]
  },
  {
   "cell_type": "markdown",
   "metadata": {},
   "source": [
    "### Spatial connections with `CollocatedSynapses`"
   ]
  },
  {
   "cell_type": "code",
   "execution_count": null,
   "metadata": {},
   "outputs": [],
   "source": [
    "nest.ResetKernel()\n",
    "\n",
    "dim = [4, 2]\n",
    "extent = [10., 10.]\n",
    "layer = nest.Create('iaf_psc_alpha', positions=nest.spatial.grid(dim, extent=extent))\n",
    "\n",
    "mask = {'rectangular': {\n",
    "        'lower_left': [-5., -5.],\n",
    "        'upper_right': [0., 0.]}}\n",
    "\n",
    "syn_spec = nest.CollocatedSynapses(nest.synapsemodels.static(weight=-2.),\n",
    "                                   nest.synapsemodels.stdp(weight=3.))\n",
    "\n",
    "projection = nest.projections.FixedIndegree(source=layer, target=layer, indegree=1, syn_spec=syn_spec, mask=mask)\n",
    "\n",
    "nest.projections.Connect(projection)\n",
    "nest.projections.BuildNetwork()\n",
    "\n",
    "conns = nest.GetConnections()\n",
    "print(conns)"
   ]
  },
  {
   "cell_type": "code",
   "execution_count": null,
   "metadata": {},
   "outputs": [],
   "source": []
  }
 ],
 "metadata": {
  "kernelspec": {
   "display_name": "Python 3",
   "language": "python",
   "name": "python3"
  },
  "language_info": {
   "codemirror_mode": {
    "name": "ipython",
    "version": 3
   },
   "file_extension": ".py",
   "mimetype": "text/x-python",
   "name": "python",
   "nbconvert_exporter": "python",
   "pygments_lexer": "ipython3",
   "version": "3.7.9"
  }
 },
 "nbformat": 4,
 "nbformat_minor": 4
}
