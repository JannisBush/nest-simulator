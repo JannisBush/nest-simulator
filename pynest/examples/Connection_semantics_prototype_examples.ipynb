{
 "cells": [
  {
   "cell_type": "code",
   "execution_count": 1,
   "metadata": {},
   "outputs": [],
   "source": [
    "import nest"
   ]
  },
  {
   "cell_type": "markdown",
   "metadata": {},
   "source": [
    "## Projection object\n",
    "\n",
    "Introducing the Projection object, representing projection between two populations with a certain rule. The projection object is added to a buffer with `projections.Connect()`, and held until calling `projections.BuildNetwork()`.\n",
    "\n",
    "### `OneToOne`"
   ]
  },
  {
   "cell_type": "code",
   "execution_count": 2,
   "metadata": {},
   "outputs": [
    {
     "name": "stdout",
     "output_type": "stream",
     "text": [
      " source   target   synapse model   weight   delay \n",
      "-------- -------- --------------- -------- -------\n",
      "      1        1  static_synapse    1.000   1.000\n",
      "      2        2  static_synapse    1.000   1.000\n",
      "      3        3  static_synapse    1.000   1.000\n",
      "      4        4  static_synapse    1.000   1.000\n",
      "      5        5  static_synapse    1.000   1.000\n"
     ]
    }
   ],
   "source": [
    "nest.ResetKernel()\n",
    "n = nest.Create('iaf_psc_alpha', 5)\n",
    "\n",
    "projection = nest.projections.OneToOne(source=n, target=n)\n",
    "nest.projections.Connect(projection)\n",
    "nest.projections.BuildNetwork()\n",
    "\n",
    "conns = nest.GetConnections()\n",
    "print(conns)"
   ]
  },
  {
   "cell_type": "markdown",
   "metadata": {},
   "source": [
    "### `FixedIndegree`\n",
    "Different Projections can take different arguments, depending on the connection rule."
   ]
  },
  {
   "cell_type": "code",
   "execution_count": 3,
   "metadata": {},
   "outputs": [
    {
     "name": "stdout",
     "output_type": "stream",
     "text": [
      " source   target   synapse model   weight   delay \n",
      "-------- -------- --------------- -------- -------\n",
      "      1        3  static_synapse    1.000   1.000\n",
      "      1        1  static_synapse    1.000   1.000\n",
      "      1        3  static_synapse    1.000   1.000\n",
      "      2        1  static_synapse    1.000   1.000\n",
      "      2        2  static_synapse    1.000   1.000\n",
      "      2        2  static_synapse    1.000   1.000\n",
      "      2        2  static_synapse    1.000   1.000\n",
      "      2        2  static_synapse    1.000   1.000\n",
      "      2        3  static_synapse    1.000   1.000\n",
      "      2        1  static_synapse    1.000   1.000\n",
      "      2        4  static_synapse    1.000   1.000\n",
      "      2        4  static_synapse    1.000   1.000\n",
      "      2        5  static_synapse    1.000   1.000\n",
      "      3        3  static_synapse    1.000   1.000\n",
      "      3        5  static_synapse    1.000   1.000\n",
      "      3        5  static_synapse    1.000   1.000\n",
      "      3        5  static_synapse    1.000   1.000\n",
      "      4        1  static_synapse    1.000   1.000\n",
      "      4        2  static_synapse    1.000   1.000\n",
      "      4        3  static_synapse    1.000   1.000\n",
      "      4        4  static_synapse    1.000   1.000\n",
      "      4        4  static_synapse    1.000   1.000\n",
      "      4        5  static_synapse    1.000   1.000\n",
      "      5        1  static_synapse    1.000   1.000\n",
      "      5        4  static_synapse    1.000   1.000\n"
     ]
    }
   ],
   "source": [
    "nest.ResetKernel()\n",
    "n = nest.Create('iaf_psc_alpha', 5)\n",
    "\n",
    "projection = nest.projections.FixedIndegree(source=n, target=n, indegree=5)\n",
    "nest.projections.Connect(projection)\n",
    "nest.projections.BuildNetwork()\n",
    "\n",
    "conns = nest.GetConnections()\n",
    "print(conns)"
   ]
  },
  {
   "cell_type": "markdown",
   "metadata": {},
   "source": [
    "### `FixedOutdegree`"
   ]
  },
  {
   "cell_type": "code",
   "execution_count": 4,
   "metadata": {
    "scrolled": false
   },
   "outputs": [
    {
     "name": "stdout",
     "output_type": "stream",
     "text": [
      " source   target   synapse model   weight   delay \n",
      "-------- -------- --------------- -------- -------\n",
      "      1        3  static_synapse    1.000   1.000\n",
      "      1        2  static_synapse    1.000   1.000\n",
      "      1        4  static_synapse    1.000   1.000\n",
      "      1        2  static_synapse    1.000   1.000\n",
      "      1        1  static_synapse    1.000   1.000\n",
      "      2        1  static_synapse    1.000   1.000\n",
      "      2        3  static_synapse    1.000   1.000\n",
      "      2        5  static_synapse    1.000   1.000\n",
      "      2        4  static_synapse    1.000   1.000\n",
      "      2        3  static_synapse    1.000   1.000\n",
      "      3        4  static_synapse    1.000   1.000\n",
      "      3        5  static_synapse    1.000   1.000\n",
      "      3        5  static_synapse    1.000   1.000\n",
      "      3        5  static_synapse    1.000   1.000\n",
      "      3        2  static_synapse    1.000   1.000\n",
      "      4        2  static_synapse    1.000   1.000\n",
      "      4        2  static_synapse    1.000   1.000\n",
      "      4        4  static_synapse    1.000   1.000\n",
      "      4        5  static_synapse    1.000   1.000\n",
      "      4        5  static_synapse    1.000   1.000\n",
      "      5        5  static_synapse    1.000   1.000\n",
      "      5        4  static_synapse    1.000   1.000\n",
      "      5        1  static_synapse    1.000   1.000\n",
      "      5        5  static_synapse    1.000   1.000\n",
      "      5        2  static_synapse    1.000   1.000\n"
     ]
    }
   ],
   "source": [
    "nest.ResetKernel()\n",
    "n = nest.Create('iaf_psc_alpha', 5)\n",
    "\n",
    "projection = nest.projections.FixedOutdegree(source=n, target=n, outdegree=5)\n",
    "nest.projections.Connect(projection)\n",
    "nest.projections.BuildNetwork()\n",
    "\n",
    "conns = nest.GetConnections()\n",
    "print(conns)"
   ]
  },
  {
   "cell_type": "markdown",
   "metadata": {},
   "source": [
    "### `PairwiseBernoulli`\n",
    "Projections can store synapse specifications."
   ]
  },
  {
   "cell_type": "code",
   "execution_count": 5,
   "metadata": {
    "scrolled": false
   },
   "outputs": [
    {
     "name": "stdout",
     "output_type": "stream",
     "text": [
      " source   target   synapse model   weight   delay \n",
      "-------- -------- --------------- -------- -------\n",
      "      1        2  static_synapse    1.000   1.000\n",
      "      1        4  static_synapse    1.000   1.000\n",
      "      1        5  static_synapse    1.000   1.000\n",
      "      1        9  static_synapse    1.000   1.000\n",
      "      1       10  static_synapse    1.000   1.000\n",
      "      2        1  static_synapse    1.000   1.000\n",
      "      2        7  static_synapse    1.000   1.000\n",
      "      2        8  static_synapse    1.000   1.000\n",
      "      3        2  static_synapse    1.000   1.000\n",
      "      3        5  static_synapse    1.000   1.000\n",
      "      3        8  static_synapse    1.000   1.000\n",
      "      4        4  static_synapse    1.000   1.000\n",
      "      5        5  static_synapse    1.000   1.000\n",
      "      6        3  static_synapse    1.000   1.000\n",
      "      6        5  static_synapse    1.000   1.000\n",
      "      7        6  static_synapse    1.000   1.000\n",
      "      8        3  static_synapse    1.000   1.000\n",
      "      8        4  static_synapse    1.000   1.000\n",
      "      8        9  static_synapse    1.000   1.000\n",
      "      9        5  static_synapse    1.000   1.000\n",
      "      9        8  static_synapse    1.000   1.000\n",
      "     10        6  static_synapse    1.000   1.000\n",
      "     10       10  static_synapse    1.000   1.000\n"
     ]
    }
   ],
   "source": [
    "nest.ResetKernel()\n",
    "n = nest.Create('iaf_psc_alpha', 10)\n",
    "\n",
    "projection = nest.projections.PairwiseBernoulli(source=n, target=n, \n",
    "                                                p=0.2)\n",
    "nest.projections.Connect(projection)\n",
    "nest.projections.BuildNetwork()\n",
    "\n",
    "conns = nest.GetConnections()\n",
    "print(conns)"
   ]
  },
  {
   "cell_type": "markdown",
   "metadata": {},
   "source": [
    "### `FixedTotalNumber`\n",
    "Can also pass arguments that controls if autapses or multapses are possible."
   ]
  },
  {
   "cell_type": "code",
   "execution_count": 6,
   "metadata": {},
   "outputs": [
    {
     "name": "stdout",
     "output_type": "stream",
     "text": [
      " source   target   synapse model   weight   delay \n",
      "-------- -------- --------------- -------- -------\n",
      "      1        2  static_synapse    1.000   1.000\n",
      "      1        4  static_synapse    1.000   1.000\n",
      "      2        1  static_synapse    1.000   1.000\n",
      "      2        5  static_synapse    1.000   1.000\n",
      "      2        2  static_synapse    1.000   1.000\n",
      "      2        5  static_synapse    1.000   1.000\n",
      "      2        4  static_synapse    1.000   1.000\n",
      "      3        4  static_synapse    1.000   1.000\n",
      "      4        2  static_synapse    1.000   1.000\n",
      "      4        2  static_synapse    1.000   1.000\n"
     ]
    }
   ],
   "source": [
    "nest.ResetKernel()\n",
    "n = nest.Create('iaf_psc_alpha', 5)\n",
    "\n",
    "projection = nest.projections.FixedTotalNumber(source=n, target=n, N=10, \n",
    "                                               allow_autapses=True,\n",
    "                                               allow_multapses=True)\n",
    "nest.projections.Connect(projection)\n",
    "nest.projections.BuildNetwork()\n",
    "\n",
    "conns = nest.GetConnections()\n",
    "print(conns)"
   ]
  },
  {
   "cell_type": "markdown",
   "metadata": {},
   "source": [
    "## Multiple projections\n",
    "Multiple Projections can be added to the buffer before connecting by calling `projections.Connect()` multiple times."
   ]
  },
  {
   "cell_type": "code",
   "execution_count": 7,
   "metadata": {},
   "outputs": [
    {
     "name": "stdout",
     "output_type": "stream",
     "text": [
      " source   target   synapse model   weight   delay \n",
      "-------- -------- --------------- -------- -------\n",
      "      1        9  static_synapse    1.000   1.000\n",
      "      1        4  static_synapse    1.000   1.000\n",
      "      1        3  static_synapse    1.000   1.000\n",
      "      1        6  static_synapse    1.000   1.000\n",
      "      1        6  static_synapse    1.000   1.000\n",
      "      1        3  static_synapse    1.000   1.000\n",
      "      1        7  static_synapse    1.000   1.000\n",
      "      1        2  static_synapse    1.000   1.000\n",
      "      1        8  static_synapse    1.000   1.000\n",
      "      2        6  static_synapse    1.000   1.000\n",
      "      2        1  static_synapse    1.000   1.000\n",
      "      2        5  static_synapse    1.000   1.000\n",
      "      2        5  static_synapse    1.000   1.000\n",
      "      2        5  static_synapse    1.000   1.000\n",
      "      2        8  static_synapse    1.000   1.000\n",
      "     ⋮        ⋮               ⋮        ⋮       ⋮ \n",
      "      7        9  static_synapse    1.000   1.000\n",
      "      8       10  static_synapse    1.000   1.000\n",
      "      8        6  static_synapse    1.000   1.000\n",
      "      8        1  static_synapse    1.000   1.000\n",
      "      8       10  static_synapse    1.000   1.000\n",
      "      8        4  static_synapse    1.000   1.000\n",
      "      8        3  static_synapse    1.000   1.000\n",
      "      8        3  static_synapse    1.000   1.000\n",
      "      9       10  static_synapse    1.000   1.000\n",
      "      9        9  static_synapse    1.000   1.000\n",
      "      9        2  static_synapse    1.000   1.000\n",
      "     10        8  static_synapse    1.000   1.000\n",
      "     10        6  static_synapse    1.000   1.000\n",
      "     10        4  static_synapse    1.000   1.000\n",
      "     10        4  static_synapse    1.000   1.000\n"
     ]
    }
   ],
   "source": [
    "nest.ResetKernel()\n",
    "\n",
    "N = 10\n",
    "IN_A = 2\n",
    "IN_B = 5\n",
    "n = nest.Create('iaf_psc_alpha', N)\n",
    "nest.projections.Connect(nest.projections.FixedIndegree(source=n, target=n, indegree=IN_A))\n",
    "nest.projections.Connect(nest.projections.FixedIndegree(source=n, target=n, indegree=IN_B))\n",
    "nest.projections.BuildNetwork()\n",
    "\n",
    "conns = nest.GetConnections()\n",
    "print(conns)"
   ]
  },
  {
   "cell_type": "markdown",
   "metadata": {},
   "source": [
    "Or by passing a list of Projections."
   ]
  },
  {
   "cell_type": "code",
   "execution_count": 8,
   "metadata": {},
   "outputs": [
    {
     "name": "stdout",
     "output_type": "stream",
     "text": [
      " source   target   synapse model   weight   delay \n",
      "-------- -------- --------------- -------- -------\n",
      "      1        9  static_synapse    1.000   1.000\n",
      "      1        4  static_synapse    1.000   1.000\n",
      "      1        3  static_synapse    1.000   1.000\n",
      "      1        6  static_synapse    1.000   1.000\n",
      "      1        6  static_synapse    1.000   1.000\n",
      "      1        3  static_synapse    1.000   1.000\n",
      "      1        7  static_synapse    1.000   1.000\n",
      "      1        2  static_synapse    1.000   1.000\n",
      "      1        8  static_synapse    1.000   1.000\n",
      "      2        6  static_synapse    1.000   1.000\n",
      "      2        1  static_synapse    1.000   1.000\n",
      "      2        5  static_synapse    1.000   1.000\n",
      "      2        5  static_synapse    1.000   1.000\n",
      "      2        5  static_synapse    1.000   1.000\n",
      "      2        8  static_synapse    1.000   1.000\n",
      "     ⋮        ⋮               ⋮        ⋮       ⋮ \n",
      "      7        9  static_synapse    1.000   1.000\n",
      "      8       10  static_synapse    1.000   1.000\n",
      "      8        6  static_synapse    1.000   1.000\n",
      "      8        1  static_synapse    1.000   1.000\n",
      "      8       10  static_synapse    1.000   1.000\n",
      "      8        4  static_synapse    1.000   1.000\n",
      "      8        3  static_synapse    1.000   1.000\n",
      "      8        3  static_synapse    1.000   1.000\n",
      "      9       10  static_synapse    1.000   1.000\n",
      "      9        9  static_synapse    1.000   1.000\n",
      "      9        2  static_synapse    1.000   1.000\n",
      "     10        8  static_synapse    1.000   1.000\n",
      "     10        6  static_synapse    1.000   1.000\n",
      "     10        4  static_synapse    1.000   1.000\n",
      "     10        4  static_synapse    1.000   1.000\n"
     ]
    }
   ],
   "source": [
    "nest.ResetKernel()\n",
    "\n",
    "N = 10\n",
    "IN_A = 2\n",
    "IN_B = 5\n",
    "n = nest.Create('iaf_psc_alpha', N)\n",
    "projections = [nest.projections.FixedIndegree(source=n, target=n, indegree=IN_A),\n",
    "               nest.projections.FixedIndegree(source=n, target=n, indegree=IN_B)]\n",
    "nest.projections.Connect(projections)\n",
    "nest.projections.BuildNetwork()\n",
    "\n",
    "conns = nest.GetConnections()\n",
    "print(conns)"
   ]
  },
  {
   "cell_type": "markdown",
   "metadata": {},
   "source": [
    "## Using `ConnectImmediately()`\n",
    "Using `projections.ConnectImmediately()` will immediately construct the connections of a Projection."
   ]
  },
  {
   "cell_type": "code",
   "execution_count": 9,
   "metadata": {},
   "outputs": [
    {
     "name": "stdout",
     "output_type": "stream",
     "text": [
      " source   target   synapse model   weight   delay \n",
      "-------- -------- --------------- -------- -------\n",
      "      1        1  static_synapse    1.000   1.000\n",
      "      2        2  static_synapse    1.000   1.000\n",
      "      3        3  static_synapse    1.000   1.000\n",
      "      4        4  static_synapse    1.000   1.000\n",
      "      5        5  static_synapse    1.000   1.000\n"
     ]
    }
   ],
   "source": [
    "nest.ResetKernel()\n",
    "\n",
    "n = nest.Create('iaf_psc_alpha', 5)\n",
    "nest.projections.ConnectImmediately(nest.projections.OneToOne(source=n, target=n))\n",
    "\n",
    "conns = nest.GetConnections()\n",
    "print(conns)\n"
   ]
  },
  {
   "cell_type": "markdown",
   "metadata": {},
   "source": [
    "Or for all Projections in a list."
   ]
  },
  {
   "cell_type": "code",
   "execution_count": 10,
   "metadata": {},
   "outputs": [
    {
     "name": "stdout",
     "output_type": "stream",
     "text": [
      " source   target   synapse model   weight   delay \n",
      "-------- -------- --------------- -------- -------\n",
      "      1        1  static_synapse    1.000   1.000\n",
      "      1        1  static_synapse    1.000   1.000\n",
      "      1        5  static_synapse    1.000   1.000\n",
      "      1        4  static_synapse    1.000   1.000\n",
      "      1        1  static_synapse    1.000   1.000\n",
      "      2        5  static_synapse    1.000   1.000\n",
      "      2        4  static_synapse    1.000   1.000\n",
      "      2        4  static_synapse    1.000   1.000\n",
      "      2        5  static_synapse    1.000   1.000\n",
      "      2        5  static_synapse    1.000   1.000\n",
      "      2        3  static_synapse    1.000   1.000\n",
      "      2        1  static_synapse    1.000   1.000\n",
      "      2        5  static_synapse    1.000   1.000\n",
      "      2        2  static_synapse    1.000   1.000\n",
      "      2        1  static_synapse    1.000   1.000\n",
      "      2        2  static_synapse    1.000   1.000\n",
      "      2        5  static_synapse    1.000   1.000\n",
      "      2        3  static_synapse    1.000   1.000\n",
      "      3        2  static_synapse    1.000   1.000\n",
      "      3        4  static_synapse    1.000   1.000\n",
      "      3        3  static_synapse    1.000   1.000\n",
      "      3        3  static_synapse    1.000   1.000\n",
      "      4        4  static_synapse    1.000   1.000\n",
      "      4        4  static_synapse    1.000   1.000\n",
      "      4        3  static_synapse    1.000   1.000\n",
      "      4        1  static_synapse    1.000   1.000\n",
      "      4        3  static_synapse    1.000   1.000\n",
      "      4        2  static_synapse    1.000   1.000\n",
      "      5        2  static_synapse    1.000   1.000\n",
      "      5        2  static_synapse    1.000   1.000\n"
     ]
    }
   ],
   "source": [
    "nest.ResetKernel()\n",
    "\n",
    "N = 5\n",
    "IN_A = 2\n",
    "IN_B = 4\n",
    "n = nest.Create('iaf_psc_alpha', N)\n",
    "\n",
    "projections = [nest.projections.FixedIndegree(source=n, target=n, indegree=IN_A),\n",
    "               nest.projections.FixedIndegree(source=n, target=n, indegree=IN_B)]\n",
    "nest.projections.ConnectImmediately(projections)\n",
    "\n",
    "conns = nest.GetConnections()\n",
    "print(conns)"
   ]
  },
  {
   "cell_type": "markdown",
   "metadata": {},
   "source": [
    "## Synapse model object"
   ]
  },
  {
   "cell_type": "code",
   "execution_count": 11,
   "metadata": {},
   "outputs": [
    {
     "name": "stdout",
     "output_type": "stream",
     "text": [
      " source   target   synapse model   weight   delay \n",
      "-------- -------- --------------- -------- -------\n",
      "      1        1  static_synapse   0.5000  0.7000\n",
      "      2        2  static_synapse   0.5000  0.7000\n",
      "      3        3  static_synapse   0.5000  0.7000\n",
      "      4        4  static_synapse   0.5000  0.7000\n",
      "      5        5  static_synapse   0.5000  0.7000\n"
     ]
    }
   ],
   "source": [
    "nest.ResetKernel()\n",
    "n = nest.Create('iaf_psc_alpha', 5)\n",
    "\n",
    "synapse = nest.synapsemodels.static(weight=0.5, delay=0.7)\n",
    "projection = nest.projections.OneToOne(source=n, target=n, syn_spec=synapse)\n",
    "nest.projections.Connect(projection)\n",
    "nest.projections.BuildNetwork()\n",
    "\n",
    "conns = nest.GetConnections()\n",
    "print(conns)"
   ]
  },
  {
   "cell_type": "code",
   "execution_count": 12,
   "metadata": {},
   "outputs": [
    {
     "name": "stdout",
     "output_type": "stream",
     "text": [
      " source   target   synapse model   weight   delay \n",
      "-------- -------- --------------- -------- -------\n",
      "      1        1    stdp_synapse   0.6402   1.000\n",
      "      2        2    stdp_synapse   0.5563   1.000\n",
      "      3        3    stdp_synapse   0.6320   1.000\n",
      "      4        4    stdp_synapse   0.9225   1.000\n",
      "      5        5    stdp_synapse   0.8900   1.000\n",
      "tau_plus = [17.0, 17.0, 17.0, 17.0, 17.0]\n"
     ]
    }
   ],
   "source": [
    "nest.ResetKernel()\n",
    "n = nest.Create('iaf_psc_alpha', 5)\n",
    "\n",
    "synapse = nest.synapsemodels.stdp(weight=nest.random.uniform(0.5, 1.0), tau_plus=17.)\n",
    "projection = nest.projections.OneToOne(source=n, target=n, syn_spec=synapse)\n",
    "nest.projections.Connect(projection)\n",
    "nest.projections.BuildNetwork()\n",
    "\n",
    "conns = nest.GetConnections()\n",
    "print(conns)\n",
    "print('tau_plus =', conns.tau_plus)"
   ]
  },
  {
   "cell_type": "markdown",
   "metadata": {},
   "source": [
    "## Usage examples"
   ]
  },
  {
   "cell_type": "markdown",
   "metadata": {},
   "source": [
    "### Generate projections iteratively, with duplicated projections\n",
    "By cloning a Projection, one can iteratively generate similar projections, where only a few parameters are changing."
   ]
  },
  {
   "cell_type": "code",
   "execution_count": 13,
   "metadata": {},
   "outputs": [
    {
     "name": "stdout",
     "output_type": "stream",
     "text": [
      " source   target   synapse model   weight   delay \n",
      "-------- -------- --------------- -------- -------\n",
      "      1        4  static_synapse   0.5000  0.7000\n",
      "      1        6  static_synapse   0.5000  0.7000\n",
      "      1        4  static_synapse   0.5000  0.7000\n",
      "      1        1  static_synapse   0.5000  0.7000\n",
      "      1        2  static_synapse   0.5000  0.7000\n",
      "      1        3  static_synapse   0.5000  0.7000\n",
      "      2        2  static_synapse   0.5000  0.7000\n",
      "      2        3  static_synapse   0.5000  0.7000\n",
      "      3        4  static_synapse   0.5000  0.7000\n",
      "      3        4  static_synapse   0.5000  0.7000\n",
      "      4        4  static_synapse   0.5000  0.7000\n",
      "      4        4  static_synapse   0.5000  0.7000\n",
      "      4        3  static_synapse   0.5000  0.7000\n",
      "      4        3  static_synapse   0.5000  0.7000\n",
      "      4        1  static_synapse   0.5000  0.7000\n",
      "      5        5  static_synapse   0.5000  0.7000\n",
      "      5        4  static_synapse   0.5000  0.7000\n",
      "      5        1  static_synapse   0.5000  0.7000\n",
      "      6        5  static_synapse   0.5000  0.7000\n",
      "      6        3  static_synapse   0.5000  0.7000\n",
      "Number of connections: 20\n"
     ]
    }
   ],
   "source": [
    "nest.ResetKernel()\n",
    "n1 = nest.Create('iaf_psc_alpha', 3)\n",
    "n2 = nest.Create('iaf_psc_exp', 3)\n",
    "\n",
    "synapse = nest.synapsemodels.static(weight=0.5, delay=0.7)\n",
    "base_projection = nest.projections.FixedTotalNumber(source=n1, target=n2,\n",
    "                                                    N=5,\n",
    "                                                    syn_spec=synapse)\n",
    "for s, t in ((n1, n2), (n1, n1), (n2, n2), (n2, n1)):\n",
    "    p = base_projection.clone()  # Create a copy of the base Projection.\n",
    "    p.source = s  # Change some parameters\n",
    "    p.target = t  # of the copied Projection.\n",
    "    nest.projections.Connect(p)  # Add the copy to the buffer.\n",
    "nest.projections.BuildNetwork()\n",
    "\n",
    "conns = nest.GetConnections()\n",
    "print(conns)\n",
    "print('Number of connections:', len(conns))"
   ]
  },
  {
   "cell_type": "code",
   "execution_count": null,
   "metadata": {},
   "outputs": [],
   "source": []
  }
 ],
 "metadata": {
  "kernelspec": {
   "display_name": "Python 3",
   "language": "python",
   "name": "python3"
  },
  "language_info": {
   "codemirror_mode": {
    "name": "ipython",
    "version": 3
   },
   "file_extension": ".py",
   "mimetype": "text/x-python",
   "name": "python",
   "nbconvert_exporter": "python",
   "pygments_lexer": "ipython3",
   "version": "3.7.9"
  }
 },
 "nbformat": 4,
 "nbformat_minor": 4
}
