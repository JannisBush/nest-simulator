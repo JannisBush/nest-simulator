{
 "cells": [
  {
   "cell_type": "code",
   "execution_count": 1,
   "metadata": {},
   "outputs": [],
   "source": [
    "import nest"
   ]
  },
  {
   "cell_type": "markdown",
   "metadata": {},
   "source": [
    "## Projection object\n",
    "\n",
    "Introducing the Projection object, representing projection between two populations with a certain rule. The projection object is added to a buffer, and held until calling `projections.build_network()`.\n",
    "\n",
    "### `OneToOne`"
   ]
  },
  {
   "cell_type": "code",
   "execution_count": 2,
   "metadata": {},
   "outputs": [
    {
     "name": "stdout",
     "output_type": "stream",
     "text": [
      "*--------*----------------*\n",
      "| source | 1, 2, 3, 4, 5, |\n",
      "*--------*----------------*\n",
      "| target | 1, 2, 3, 4, 5, |\n",
      "*--------*----------------*\n"
     ]
    }
   ],
   "source": [
    "nest.ResetKernel()\n",
    "\n",
    "n = nest.Create('iaf_psc_alpha', 5)\n",
    "\n",
    "projection = nest.projections.OneToOne(source=n, target=n)\n",
    "nest.projections.Connect(projection)\n",
    "nest.projections.build_network()\n",
    "\n",
    "conns = nest.GetConnections()\n",
    "print(conns)"
   ]
  },
  {
   "cell_type": "markdown",
   "metadata": {},
   "source": [
    "### `FixedIndegree`\n",
    "Other projections can have additional arguments."
   ]
  },
  {
   "cell_type": "code",
   "execution_count": 3,
   "metadata": {},
   "outputs": [
    {
     "name": "stdout",
     "output_type": "stream",
     "text": [
      "*--------*----------------------------------------------------------------------------*\n",
      "| source | 1, 1, 1, 2, 2, 2, 2, 2, 2, 2, 2, 2, 2, 3, 3, 3, 3, 4, 4, 4, 4, 4, 4, 5, 5, |\n",
      "*--------*----------------------------------------------------------------------------*\n",
      "| target | 3, 1, 3, 1, 2, 2, 2, 2, 3, 1, 4, 4, 5, 3, 5, 5, 5, 1, 2, 3, 4, 4, 5, 1, 4, |\n",
      "*--------*----------------------------------------------------------------------------*\n"
     ]
    }
   ],
   "source": [
    "nest.ResetKernel()\n",
    "\n",
    "n = nest.Create('iaf_psc_alpha', 5)\n",
    "\n",
    "projection = nest.projections.FixedIndegree(source=n, target=n, indegree=5)\n",
    "nest.projections.Connect(projection)\n",
    "nest.projections.build_network()\n",
    "\n",
    "conns = nest.GetConnections()\n",
    "print(conns)"
   ]
  },
  {
   "cell_type": "markdown",
   "metadata": {},
   "source": [
    "### `FixedOutdegree`"
   ]
  },
  {
   "cell_type": "code",
   "execution_count": 4,
   "metadata": {},
   "outputs": [
    {
     "name": "stdout",
     "output_type": "stream",
     "text": [
      "*--------*----------------------------------------------------------------------------*\n",
      "| source | 1, 1, 1, 1, 1, 2, 2, 2, 2, 2, 3, 3, 3, 3, 3, 4, 4, 4, 4, 4, 5, 5, 5, 5, 5, |\n",
      "*--------*----------------------------------------------------------------------------*\n",
      "| target | 3, 2, 4, 2, 1, 1, 3, 5, 4, 3, 4, 5, 5, 5, 2, 2, 2, 4, 5, 5, 5, 4, 1, 5, 2, |\n",
      "*--------*----------------------------------------------------------------------------*\n"
     ]
    }
   ],
   "source": [
    "nest.ResetKernel()\n",
    "\n",
    "n = nest.Create('iaf_psc_alpha', 5)\n",
    "\n",
    "projection = nest.projections.FixedOutdegree(source=n, target=n, outdegree=5)\n",
    "nest.projections.Connect(projection)\n",
    "nest.projections.build_network()\n",
    "\n",
    "conns = nest.GetConnections()\n",
    "print(conns)"
   ]
  },
  {
   "cell_type": "markdown",
   "metadata": {},
   "source": [
    "### `FixedTotalNumber`"
   ]
  },
  {
   "cell_type": "code",
   "execution_count": 5,
   "metadata": {},
   "outputs": [
    {
     "name": "stdout",
     "output_type": "stream",
     "text": [
      "*--------*-------------------------------*\n",
      "| source | 1, 1, 2, 2, 2, 2, 2, 3, 4, 4, |\n",
      "*--------*-------------------------------*\n",
      "| target | 2, 4, 1, 5, 2, 5, 4, 4, 2, 2, |\n",
      "*--------*-------------------------------*\n",
      "[0.5, 0.5, 0.5, 0.5, 0.5, 0.5, 0.5, 0.5, 0.5, 0.5]\n"
     ]
    }
   ],
   "source": [
    "nest.ResetKernel()\n",
    "n = nest.Create('iaf_psc_alpha', 5)\n",
    "\n",
    "projection = nest.projections.FixedTotalNumber(source=n, target=n, N=10, \n",
    "                                   allow_autapses=True,\n",
    "                                   allow_multapses=True,\n",
    "                                   syn_spec={'weight': 0.5})\n",
    "nest.projections.Connect(projection)\n",
    "nest.projections.build_network()\n",
    "\n",
    "conns = nest.GetConnections()\n",
    "print(conns)\n",
    "print(conns.weight)"
   ]
  },
  {
   "cell_type": "markdown",
   "metadata": {},
   "source": [
    "### `PairwiseBernoulli`"
   ]
  },
  {
   "cell_type": "code",
   "execution_count": 6,
   "metadata": {
    "scrolled": true
   },
   "outputs": [
    {
     "name": "stdout",
     "output_type": "stream",
     "text": [
      "*--------*----------------------------------------------------------------------------------------------------*\n",
      "| source | 1, 1, 1, 1, 1, 1, 1, 1, 2, 2, 2, 2, 2, 3, 3, ... 8, 8, 8, 9, 9, 9, 9, 9, 9, 9, 10, 10, 10, 10, 10, |\n",
      "*--------*----------------------------------------------------------------------------------------------------*\n",
      "| target | 10, 6, 1, 5, 4, 9, 3, 2, 7, 2, 1, 8, 9, 2, 10, ... 1, 3, 9, 1, 7, 5, 8, 3, 2, 9, 6, 1, 8, 3, 10, |\n",
      "*--------*--------------------------------------------------------------------------------------------------*\n"
     ]
    }
   ],
   "source": [
    "nest.ResetKernel()\n",
    "n = nest.Create('iaf_psc_alpha', 10)\n",
    "\n",
    "projection = nest.projections.PairwiseBernoulli(source=n, target=n, p=0.5)\n",
    "nest.projections.Connect(projection)\n",
    "nest.projections.build_network()\n",
    "\n",
    "conns = nest.GetConnections()\n",
    "print(conns)"
   ]
  },
  {
   "cell_type": "markdown",
   "metadata": {},
   "source": [
    "## Multiple projections"
   ]
  },
  {
   "cell_type": "code",
   "execution_count": 7,
   "metadata": {},
   "outputs": [
    {
     "name": "stdout",
     "output_type": "stream",
     "text": [
      "*--------*---------------------------------------------------------------------------------------------------*\n",
      "| source | 1, 1, 1, 1, 1, 1, 1, 1, 1, 2, 2, 2, 2, 2, 2, ... 7, 8, 8, 8, 8, 8, 8, 8, 9, 9, 9, 10, 10, 10, 10, |\n",
      "*--------*---------------------------------------------------------------------------------------------------*\n",
      "| target | 9, 4, 3, 6, 6, 3, 7, 2, 8, 6, 1, 5, 5, 5, 8, ... 9, 10, 6, 1, 10, 4, 3, 3, 10, 9, 2, 8, 6, 4, 4, |\n",
      "*--------*--------------------------------------------------------------------------------------------------*\n"
     ]
    }
   ],
   "source": [
    "nest.ResetKernel()\n",
    "\n",
    "N = 10\n",
    "IN_A = 2\n",
    "IN_B = 5\n",
    "n = nest.Create('iaf_psc_alpha', N)\n",
    "nest.projections.Connect(nest.projections.FixedIndegree(source=n, target=n, indegree=IN_A))\n",
    "nest.projections.Connect(nest.projections.FixedIndegree(source=n, target=n, indegree=IN_B))\n",
    "nest.projections.build_network()\n",
    "\n",
    "conns = nest.GetConnections()\n",
    "print(conns)"
   ]
  },
  {
   "cell_type": "markdown",
   "metadata": {},
   "source": [
    "## Using `Connect()`"
   ]
  },
  {
   "cell_type": "code",
   "execution_count": 8,
   "metadata": {},
   "outputs": [
    {
     "name": "stdout",
     "output_type": "stream",
     "text": [
      "*--------*----------------*\n",
      "| source | 1, 2, 3, 4, 5, |\n",
      "*--------*----------------*\n",
      "| target | 1, 2, 3, 4, 5, |\n",
      "*--------*----------------*\n"
     ]
    }
   ],
   "source": [
    "nest.ResetKernel()\n",
    "\n",
    "n = nest.Create('iaf_psc_alpha', 5)\n",
    "nest.projections.Connect_immediately(nest.projections.OneToOne(source=n, target=n))\n",
    "\n",
    "conns = nest.GetConnections()\n",
    "print(conns)\n"
   ]
  },
  {
   "cell_type": "markdown",
   "metadata": {},
   "source": [
    "### List of multiple Projections"
   ]
  },
  {
   "cell_type": "code",
   "execution_count": 10,
   "metadata": {},
   "outputs": [
    {
     "name": "stdout",
     "output_type": "stream",
     "text": [
      "*--------*-------------------------------------------------------------------------------------------*\n",
      "| source | 1, 1, 1, 1, 1, 2, 2, 2, 2, 2, 2, 2, 2, 2, 2, 2, 2, 2, 3, 3, 3, 3, 4, 4, 4, 4, 4, 4, 5, 5, |\n",
      "*--------*-------------------------------------------------------------------------------------------*\n",
      "| target | 1, 1, 5, 4, 1, 5, 4, 4, 5, 5, 3, 1, 5, 2, 1, 2, 5, 3, 2, 4, 3, 3, 4, 4, 3, 1, 3, 2, 2, 2, |\n",
      "*--------*-------------------------------------------------------------------------------------------*\n"
     ]
    }
   ],
   "source": [
    "nest.ResetKernel()\n",
    "\n",
    "N = 5\n",
    "IN_A = 2\n",
    "IN_B = 4\n",
    "n = nest.Create('iaf_psc_alpha', N)\n",
    "nest.projections.Connect_immediately([nest.projections.FixedIndegree(source=n, target=n, indegree=IN_A),\n",
    "                                      nest.projections.FixedIndegree(source=n, target=n, indegree=IN_B)])\n",
    "\n",
    "conns = nest.GetConnections()\n",
    "print(conns)"
   ]
  },
  {
   "cell_type": "code",
   "execution_count": null,
   "metadata": {},
   "outputs": [],
   "source": []
  }
 ],
 "metadata": {
  "kernelspec": {
   "display_name": "Python 3",
   "language": "python",
   "name": "python3"
  },
  "language_info": {
   "codemirror_mode": {
    "name": "ipython",
    "version": 3
   },
   "file_extension": ".py",
   "mimetype": "text/x-python",
   "name": "python",
   "nbconvert_exporter": "python",
   "pygments_lexer": "ipython3",
   "version": "3.7.9"
  }
 },
 "nbformat": 4,
 "nbformat_minor": 4
}
