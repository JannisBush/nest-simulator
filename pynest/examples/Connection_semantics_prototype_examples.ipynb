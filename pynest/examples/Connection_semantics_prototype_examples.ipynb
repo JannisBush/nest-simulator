{
 "cells": [
  {
   "cell_type": "code",
   "execution_count": 1,
   "metadata": {},
   "outputs": [],
   "source": [
    "import nest"
   ]
  },
  {
   "cell_type": "markdown",
   "metadata": {},
   "source": [
    "## Projection object\n",
    "\n",
    "Introducing the Projection object, representing projection between two populations with a certain rule. The projection object is added to a buffer with `projections.Connect()`, and held until calling `projections.BuildNetwork()`.\n",
    "\n",
    "### `OneToOne`"
   ]
  },
  {
   "cell_type": "code",
   "execution_count": 2,
   "metadata": {},
   "outputs": [
    {
     "name": "stdout",
     "output_type": "stream",
     "text": [
      "*--------*----------------*\n",
      "| source | 1, 2, 3, 4, 5, |\n",
      "*--------*----------------*\n",
      "| target | 1, 2, 3, 4, 5, |\n",
      "*--------*----------------*\n"
     ]
    }
   ],
   "source": [
    "nest.ResetKernel()\n",
    "n = nest.Create('iaf_psc_alpha', 5)\n",
    "\n",
    "projection = nest.projections.OneToOne(source=n, target=n)\n",
    "nest.projections.Connect(projection)\n",
    "nest.projections.BuildNetwork()\n",
    "\n",
    "conns = nest.GetConnections()\n",
    "print(conns)"
   ]
  },
  {
   "cell_type": "markdown",
   "metadata": {},
   "source": [
    "### `FixedIndegree`\n",
    "Different Projections can take different arguments, depending on the connection rule."
   ]
  },
  {
   "cell_type": "code",
   "execution_count": 3,
   "metadata": {},
   "outputs": [
    {
     "name": "stdout",
     "output_type": "stream",
     "text": [
      "*--------*----------------------------------------------------------------------------*\n",
      "| source | 1, 1, 1, 2, 2, 2, 2, 2, 2, 2, 2, 2, 2, 3, 3, 3, 3, 4, 4, 4, 4, 4, 4, 5, 5, |\n",
      "*--------*----------------------------------------------------------------------------*\n",
      "| target | 3, 1, 3, 1, 2, 2, 2, 2, 3, 1, 4, 4, 5, 3, 5, 5, 5, 1, 2, 3, 4, 4, 5, 1, 4, |\n",
      "*--------*----------------------------------------------------------------------------*\n"
     ]
    }
   ],
   "source": [
    "nest.ResetKernel()\n",
    "n = nest.Create('iaf_psc_alpha', 5)\n",
    "\n",
    "projection = nest.projections.FixedIndegree(source=n, target=n, indegree=5)\n",
    "nest.projections.Connect(projection)\n",
    "nest.projections.BuildNetwork()\n",
    "\n",
    "conns = nest.GetConnections()\n",
    "print(conns)"
   ]
  },
  {
   "cell_type": "markdown",
   "metadata": {},
   "source": [
    "### `FixedOutdegree`"
   ]
  },
  {
   "cell_type": "code",
   "execution_count": 4,
   "metadata": {
    "scrolled": false
   },
   "outputs": [
    {
     "name": "stdout",
     "output_type": "stream",
     "text": [
      "*--------*----------------------------------------------------------------------------*\n",
      "| source | 1, 1, 1, 1, 1, 2, 2, 2, 2, 2, 3, 3, 3, 3, 3, 4, 4, 4, 4, 4, 5, 5, 5, 5, 5, |\n",
      "*--------*----------------------------------------------------------------------------*\n",
      "| target | 3, 2, 4, 2, 1, 1, 3, 5, 4, 3, 4, 5, 5, 5, 2, 2, 2, 4, 5, 5, 5, 4, 1, 5, 2, |\n",
      "*--------*----------------------------------------------------------------------------*\n"
     ]
    }
   ],
   "source": [
    "nest.ResetKernel()\n",
    "n = nest.Create('iaf_psc_alpha', 5)\n",
    "\n",
    "projection = nest.projections.FixedOutdegree(source=n, target=n, outdegree=5)\n",
    "nest.projections.Connect(projection)\n",
    "nest.projections.BuildNetwork()\n",
    "\n",
    "conns = nest.GetConnections()\n",
    "print(conns)"
   ]
  },
  {
   "cell_type": "markdown",
   "metadata": {},
   "source": [
    "### `PairwiseBernoulli`\n",
    "Projections can store synapse specifications."
   ]
  },
  {
   "cell_type": "code",
   "execution_count": 5,
   "metadata": {
    "scrolled": true
   },
   "outputs": [
    {
     "name": "stdout",
     "output_type": "stream",
     "text": [
      "*--------*------------------------------------------------------------------------*\n",
      "| source | 1, 1, 1, 1, 1, 2, 2, 2, 3, 3, 3, 4, 5, 6, 6, 7, 8, 8, 8, 9, 9, 10, 10, |\n",
      "*--------*------------------------------------------------------------------------*\n",
      "| target | 2, 4, 5, 9, 10, 1, 7, 8, 2, 5, 8, 4, 5, 3, 5, 6, 3, 4, 9, 5, 8, 6, 10, |\n",
      "*--------*------------------------------------------------------------------------*\n",
      "[0.5, 0.5, 0.5, 0.5, 0.5, 0.5, 0.5, 0.5, 0.5, 0.5, 0.5, 0.5, 0.5, 0.5, 0.5, 0.5, 0.5, 0.5, 0.5, 0.5, 0.5, 0.5, 0.5]\n"
     ]
    }
   ],
   "source": [
    "nest.ResetKernel()\n",
    "n = nest.Create('iaf_psc_alpha', 10)\n",
    "\n",
    "projection = nest.projections.PairwiseBernoulli(source=n, target=n, \n",
    "                                                p=0.2, \n",
    "                                                weight=0.5)\n",
    "nest.projections.Connect(projection)\n",
    "nest.projections.BuildNetwork()\n",
    "\n",
    "conns = nest.GetConnections()\n",
    "print(conns)\n",
    "print(conns.weight)"
   ]
  },
  {
   "cell_type": "markdown",
   "metadata": {},
   "source": [
    "### `FixedTotalNumber`\n",
    "Can also pass arguments that controls if autapses or multapses are possible."
   ]
  },
  {
   "cell_type": "code",
   "execution_count": 6,
   "metadata": {},
   "outputs": [
    {
     "name": "stdout",
     "output_type": "stream",
     "text": [
      "*--------*-------------------------------*\n",
      "| source | 1, 1, 2, 2, 2, 2, 2, 3, 4, 4, |\n",
      "*--------*-------------------------------*\n",
      "| target | 2, 4, 1, 5, 2, 5, 4, 4, 2, 2, |\n",
      "*--------*-------------------------------*\n"
     ]
    }
   ],
   "source": [
    "nest.ResetKernel()\n",
    "n = nest.Create('iaf_psc_alpha', 5)\n",
    "\n",
    "projection = nest.projections.FixedTotalNumber(source=n, target=n, N=10, \n",
    "                                               allow_autapses=True,\n",
    "                                               allow_multapses=True)\n",
    "nest.projections.Connect(projection)\n",
    "nest.projections.BuildNetwork()\n",
    "\n",
    "conns = nest.GetConnections()\n",
    "print(conns)"
   ]
  },
  {
   "cell_type": "markdown",
   "metadata": {},
   "source": [
    "## Multiple projections\n",
    "Multiple Projections can be added to the buffer before connecting by calling `projections.Connect()` multiple times."
   ]
  },
  {
   "cell_type": "code",
   "execution_count": 7,
   "metadata": {},
   "outputs": [
    {
     "name": "stdout",
     "output_type": "stream",
     "text": [
      "*--------*---------------------------------------------------------------------------------------------------*\n",
      "| source | 1, 1, 1, 1, 1, 1, 1, 1, 1, 2, 2, 2, 2, 2, 2, ... 7, 8, 8, 8, 8, 8, 8, 8, 9, 9, 9, 10, 10, 10, 10, |\n",
      "*--------*---------------------------------------------------------------------------------------------------*\n",
      "| target | 9, 4, 3, 6, 6, 3, 7, 2, 8, 6, 1, 5, 5, 5, 8, ... 9, 10, 6, 1, 10, 4, 3, 3, 10, 9, 2, 8, 6, 4, 4, |\n",
      "*--------*--------------------------------------------------------------------------------------------------*\n"
     ]
    }
   ],
   "source": [
    "nest.ResetKernel()\n",
    "\n",
    "N = 10\n",
    "IN_A = 2\n",
    "IN_B = 5\n",
    "n = nest.Create('iaf_psc_alpha', N)\n",
    "nest.projections.Connect(nest.projections.FixedIndegree(source=n, target=n, indegree=IN_A))\n",
    "nest.projections.Connect(nest.projections.FixedIndegree(source=n, target=n, indegree=IN_B))\n",
    "nest.projections.BuildNetwork()\n",
    "\n",
    "conns = nest.GetConnections()\n",
    "print(conns)"
   ]
  },
  {
   "cell_type": "markdown",
   "metadata": {},
   "source": [
    "Or by passing a list of Projections."
   ]
  },
  {
   "cell_type": "code",
   "execution_count": 8,
   "metadata": {},
   "outputs": [
    {
     "name": "stdout",
     "output_type": "stream",
     "text": [
      "*--------*---------------------------------------------------------------------------------------------------*\n",
      "| source | 1, 1, 1, 1, 1, 1, 1, 1, 1, 2, 2, 2, 2, 2, 2, ... 7, 8, 8, 8, 8, 8, 8, 8, 9, 9, 9, 10, 10, 10, 10, |\n",
      "*--------*---------------------------------------------------------------------------------------------------*\n",
      "| target | 9, 4, 3, 6, 6, 3, 7, 2, 8, 6, 1, 5, 5, 5, 8, ... 9, 10, 6, 1, 10, 4, 3, 3, 10, 9, 2, 8, 6, 4, 4, |\n",
      "*--------*--------------------------------------------------------------------------------------------------*\n"
     ]
    }
   ],
   "source": [
    "nest.ResetKernel()\n",
    "\n",
    "N = 10\n",
    "IN_A = 2\n",
    "IN_B = 5\n",
    "n = nest.Create('iaf_psc_alpha', N)\n",
    "projections = [nest.projections.FixedIndegree(source=n, target=n, indegree=IN_A),\n",
    "               nest.projections.FixedIndegree(source=n, target=n, indegree=IN_B)]\n",
    "nest.projections.Connect(projections)\n",
    "nest.projections.BuildNetwork()\n",
    "\n",
    "conns = nest.GetConnections()\n",
    "print(conns)"
   ]
  },
  {
   "cell_type": "markdown",
   "metadata": {},
   "source": [
    "## Using `ConnectImmediately()`\n",
    "Using `projections.ConnectImmediately()` will immediately construct the connections of a Projection."
   ]
  },
  {
   "cell_type": "code",
   "execution_count": 9,
   "metadata": {},
   "outputs": [
    {
     "name": "stdout",
     "output_type": "stream",
     "text": [
      "*--------*----------------*\n",
      "| source | 1, 2, 3, 4, 5, |\n",
      "*--------*----------------*\n",
      "| target | 1, 2, 3, 4, 5, |\n",
      "*--------*----------------*\n"
     ]
    }
   ],
   "source": [
    "nest.ResetKernel()\n",
    "\n",
    "n = nest.Create('iaf_psc_alpha', 5)\n",
    "nest.projections.ConnectImmediately(nest.projections.OneToOne(source=n, target=n))\n",
    "\n",
    "conns = nest.GetConnections()\n",
    "print(conns)\n"
   ]
  },
  {
   "cell_type": "markdown",
   "metadata": {},
   "source": [
    "Or for all Projections in a list."
   ]
  },
  {
   "cell_type": "code",
   "execution_count": 10,
   "metadata": {},
   "outputs": [
    {
     "name": "stdout",
     "output_type": "stream",
     "text": [
      "*--------*-------------------------------------------------------------------------------------------*\n",
      "| source | 1, 1, 1, 1, 1, 2, 2, 2, 2, 2, 2, 2, 2, 2, 2, 2, 2, 2, 3, 3, 3, 3, 4, 4, 4, 4, 4, 4, 5, 5, |\n",
      "*--------*-------------------------------------------------------------------------------------------*\n",
      "| target | 1, 1, 5, 4, 1, 5, 4, 4, 5, 5, 3, 1, 5, 2, 1, 2, 5, 3, 2, 4, 3, 3, 4, 4, 3, 1, 3, 2, 2, 2, |\n",
      "*--------*-------------------------------------------------------------------------------------------*\n"
     ]
    }
   ],
   "source": [
    "nest.ResetKernel()\n",
    "\n",
    "N = 5\n",
    "IN_A = 2\n",
    "IN_B = 4\n",
    "n = nest.Create('iaf_psc_alpha', N)\n",
    "\n",
    "projections = [nest.projections.FixedIndegree(source=n, target=n, indegree=IN_A),\n",
    "               nest.projections.FixedIndegree(source=n, target=n, indegree=IN_B)]\n",
    "nest.projections.ConnectImmediately(projections)\n",
    "\n",
    "conns = nest.GetConnections()\n",
    "print(conns)"
   ]
  },
  {
   "cell_type": "markdown",
   "metadata": {},
   "source": [
    "## Experimental features"
   ]
  },
  {
   "cell_type": "markdown",
   "metadata": {},
   "source": [
    "### Generate projections iteratively, with duplicated projections\n",
    "By cloning a Projection, one can iteratively generate similar projections, where only a few parameters are changing."
   ]
  },
  {
   "cell_type": "code",
   "execution_count": 11,
   "metadata": {},
   "outputs": [
    {
     "name": "stdout",
     "output_type": "stream",
     "text": [
      "*--------*-------------------------------------------------------------*\n",
      "| source | 1, 1, 1, 1, 1, 1, 2, 2, 3, 3, 4, 4, 4, 4, 4, 5, 5, 5, 6, 6, |\n",
      "*--------*-------------------------------------------------------------*\n",
      "| target | 4, 6, 4, 1, 2, 3, 2, 3, 4, 4, 4, 4, 3, 3, 1, 5, 4, 1, 5, 3, |\n",
      "*--------*-------------------------------------------------------------*\n",
      "Num. conns: 20\n"
     ]
    }
   ],
   "source": [
    "nest.ResetKernel()\n",
    "n1 = nest.Create('iaf_psc_alpha', 3)\n",
    "n2 = nest.Create('iaf_psc_exp', 3)\n",
    "\n",
    "base_projection = nest.projections.FixedTotalNumber(source=n1, target=n2,\n",
    "                                                    N=5,\n",
    "                                                    weight=0.5,\n",
    "                                                    delay=0.7,\n",
    "                                                    synapse_model='static_synapse')\n",
    "for s, t in ((n1, n2), (n1, n1), (n2, n2), (n2, n1)):\n",
    "    p = base_projection.clone()  # Create a copy of the base Projection.\n",
    "    p.source = s  # Change some parameters\n",
    "    p.target = t  # of the copied Projection.\n",
    "    nest.projections.Connect(p)  # Add the copy to the buffer.\n",
    "nest.projections.BuildNetwork()\n",
    "\n",
    "conns = nest.GetConnections()\n",
    "print(conns)\n",
    "print('Num. conns:', len(conns))"
   ]
  },
  {
   "cell_type": "code",
   "execution_count": null,
   "metadata": {},
   "outputs": [],
   "source": []
  }
 ],
 "metadata": {
  "kernelspec": {
   "display_name": "Python 3",
   "language": "python",
   "name": "python3"
  },
  "language_info": {
   "codemirror_mode": {
    "name": "ipython",
    "version": 3
   },
   "file_extension": ".py",
   "mimetype": "text/x-python",
   "name": "python",
   "nbconvert_exporter": "python",
   "pygments_lexer": "ipython3",
   "version": "3.7.9"
  }
 },
 "nbformat": 4,
 "nbformat_minor": 4
}
